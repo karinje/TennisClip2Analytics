{
 "cells": [
  {
   "cell_type": "code",
   "execution_count": null,
   "id": "fabfe82a-9dde-4f37-9fae-d91475ca5c77",
   "metadata": {},
   "outputs": [],
   "source": [
    "!pip install ffmpeg\n",
    "!pip install pytube\n",
    "!pip install moviepy"
   ]
  },
  {
   "cell_type": "code",
   "execution_count": 3,
   "id": "cbe436c2-6431-4705-8f56-6503e3951c78",
   "metadata": {},
   "outputs": [],
   "source": [
    "from pytube import YouTube\n",
    "import moviepy.editor as mp\n",
    "from pathlib import Path\n",
    "def download_video(url, start_time, end_time, output_file):\n",
    "    yt = YouTube(url)\n",
    "    stream = yt.streams.get_highest_resolution()\n",
    "    output_path = str(output_file.parent)\n",
    "    stream.download(output_path=output_path)\n",
    "    video_path = f\"{output_path}/{stream.default_filename}\"\n",
    "    print(f'saved full video at: {video_path}')\n",
    "    video = mp.VideoFileClip(video_path).subclip(start_time, end_time)\n",
    "    video.write_videofile(f\"{output_file}\")\n"
   ]
  },
  {
   "cell_type": "code",
   "execution_count": 4,
   "id": "3d59062d-ccad-41f6-8bdc-82511b50f6c8",
   "metadata": {},
   "outputs": [
    {
     "name": "stdout",
     "output_type": "stream",
     "text": [
      "saved full video at: /Users/sanjaykarinje/Downloads/match_frames_v2/Rafael Nadal vs Novak Djokovic Full Match  US Open 2013 Final.mp4\n",
      "Moviepy - Building video /Users/sanjaykarinje/Downloads/match_frames_v2/usopen_2013_1.0.mp4.\n",
      "MoviePy - Writing audio in usopen_2013_1.0TEMP_MPY_wvf_snd.mp3\n"
     ]
    },
    {
     "name": "stderr",
     "output_type": "stream",
     "text": [
      "                                                                                                                                                                                                   \r"
     ]
    },
    {
     "name": "stdout",
     "output_type": "stream",
     "text": [
      "MoviePy - Done.\n",
      "Moviepy - Writing video /Users/sanjaykarinje/Downloads/match_frames_v2/usopen_2013_1.0.mp4\n",
      "\n"
     ]
    },
    {
     "name": "stderr",
     "output_type": "stream",
     "text": [
      "                                                                                                                                                                                                   \r"
     ]
    },
    {
     "name": "stdout",
     "output_type": "stream",
     "text": [
      "Moviepy - Done !\n",
      "Moviepy - video ready /Users/sanjaykarinje/Downloads/match_frames_v2/usopen_2013_1.0.mp4\n"
     ]
    }
   ],
   "source": [
    "us_open_2013_url = 'https://www.youtube.com/watch?v=qg4wqo02gfc'\n",
    "start_time = \"00:30:00\"\n",
    "end_time = \"01:00:00\"\n",
    "output_file = Path('/Users/sanjaykarinje/Downloads/match_frames_v2/usopen_2013_1.0.mp4')\n",
    "download_video(us_open_2013_url, start_time, end_time, output_file)"
   ]
  },
  {
   "cell_type": "code",
   "execution_count": null,
   "id": "38492543-7435-4bbc-951c-5fd53924fcf7",
   "metadata": {},
   "outputs": [],
   "source": [
    "!ffmpeg -i {output_file} match_frames/usopen_2013_1.0/img_%04d.jpg"
   ]
  },
  {
   "cell_type": "code",
   "execution_count": null,
   "id": "8e26880b-0c40-4280-b036-c3d190c37951",
   "metadata": {},
   "outputs": [],
   "source": []
  }
 ],
 "metadata": {
  "kernelspec": {
   "display_name": "Python 3 (ipykernel)",
   "language": "python",
   "name": "python3"
  },
  "language_info": {
   "codemirror_mode": {
    "name": "ipython",
    "version": 3
   },
   "file_extension": ".py",
   "mimetype": "text/x-python",
   "name": "python",
   "nbconvert_exporter": "python",
   "pygments_lexer": "ipython3",
   "version": "3.10.10"
  }
 },
 "nbformat": 4,
 "nbformat_minor": 5
}
