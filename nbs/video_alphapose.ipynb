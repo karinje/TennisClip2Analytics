{
 "cells": [
  {
   "cell_type": "code",
   "execution_count": null,
   "id": "8956f27b-c7f2-4316-ac58-059bb6934ae2",
   "metadata": {},
   "outputs": [],
   "source": [
    "! pip install pyyaml==5.2\n",
    "! pip install scipy\n",
    "! pip install numpy\n",
    "! pip3 install torch torchvision --extra-index-url https://download.pytorch.org/whl/cu113\n",
    "\n",
    "import torch\n",
    "print(torch.__version__)\n",
    "import yaml, scipy, os\n",
    "print(yaml.__version__)\n",
    "print(scipy.__version__)"
   ]
  },
  {
   "cell_type": "code",
   "execution_count": null,
   "id": "42c9f4e2-6ae2-41d1-9436-511b5f0dc294",
   "metadata": {},
   "outputs": [],
   "source": [
    "!rm -rf AlphaPose\n",
    "!git clone https://github.com/MVIG-SJTU/AlphaPose.git"
   ]
  },
  {
   "cell_type": "code",
   "execution_count": 9,
   "id": "5263da9e-56b4-40ff-8a9c-dccc772bc386",
   "metadata": {},
   "outputs": [
    {
     "ename": "ModuleNotFoundError",
     "evalue": "No module named 'pyyaml'",
     "output_type": "error",
     "traceback": [
      "\u001b[0;31m---------------------------------------------------------------------------\u001b[0m",
      "\u001b[0;31mModuleNotFoundError\u001b[0m                       Traceback (most recent call last)",
      "Cell \u001b[0;32mIn[9], line 1\u001b[0m\n\u001b[0;32m----> 1\u001b[0m \u001b[38;5;28;01mimport\u001b[39;00m \u001b[38;5;21;01mpyyaml\u001b[39;00m\n",
      "\u001b[0;31mModuleNotFoundError\u001b[0m: No module named 'pyyaml'"
     ]
    }
   ],
   "source": [
    "import "
   ]
  },
  {
   "cell_type": "code",
   "execution_count": null,
   "id": "bcb4f0ec-7e27-4acc-9fd8-6339225352fd",
   "metadata": {},
   "outputs": [],
   "source": [
    "!python -m pip install cython\n",
    "!sudo apt-get install libyaml-dev\n",
    "!pip install cython_bbox\n"
   ]
  },
  {
   "cell_type": "code",
   "execution_count": null,
   "id": "db3ad024-b393-472b-a590-73dec9261e59",
   "metadata": {},
   "outputs": [],
   "source": [
    "!python setup.py build develop"
   ]
  },
  {
   "cell_type": "code",
   "execution_count": null,
   "id": "63895cc7-100a-4aa6-9921-10286087ec76",
   "metadata": {},
   "outputs": [],
   "source": [
    "!pip install -U -q PyDrive\n",
    "\n",
    "from pydrive.auth import GoogleAuth\n",
    "from pydrive.drive import GoogleDrive\n",
    "from google.colab import auth\n",
    "from oauth2client.client import GoogleCredentials\n",
    "# Authenticate and create the PyDrive client.\n",
    "# This only needs to be done once per notebook.\n",
    "auth.authenticate_user()\n",
    "gauth = GoogleAuth()\n",
    "gauth.credentials = GoogleCredentials.get_application_default()\n",
    "drive = GoogleDrive(gauth)\n",
    "\n",
    "! mkdir -p detector/yolo/data\n",
    "file_id = '1D47msNOOiJKvPOXlnpyzdKA3k6E97NTC'\n",
    "downloaded = drive.CreateFile({'id': file_id})\n",
    "downloaded.GetContentFile('detector/yolo/data/yolov3-spp.weights')\n",
    "\n",
    "! mkdir -p detector/tracker/data\n",
    "file_id = '1nlnuYfGNuHWZztQHXwVZSL_FvfE551pA'\n",
    "downloaded = drive.CreateFile({'id': file_id})\n",
    "downloaded.GetContentFile('detector/tracker/data/JDE-1088x608-uncertainty')\n",
    "\n",
    "\n",
    "file_id = '1kQhnMRURFiy7NsdS8EFL-8vtqEXOgECn'\n",
    "downloaded = drive.CreateFile({'id': file_id})\n",
    "downloaded.GetContentFile('pretrained_models/fast_res50_256x192.pth')\n",
    "\n",
    "!wget -P ./detector/yolox/data/ https://github.com/Megvii-BaseDetection/YOLOX/releases/download/0.1.0/yolox_x.pth\n",
    "\n"
   ]
  },
  {
   "cell_type": "code",
   "execution_count": null,
   "id": "6207189c-bd93-45a8-b2e9-08c9d2540ce6",
   "metadata": {},
   "outputs": [],
   "source": [
    "!ls ./detector/yolox/data/"
   ]
  },
  {
   "cell_type": "code",
   "execution_count": null,
   "id": "bc5ca408-a172-48a2-8104-426e884c5692",
   "metadata": {},
   "outputs": [],
   "source": [
    "from traitlets import traitlets\n",
    "cfg_file = '/content/drive/MyDrive/demo_alphapose/AlphaPose/configs/coco/resnet/256x192_res50_lr1e-3_1x.yaml'\n",
    "trained_model = '/content/drive/MyDrive/demo_alphapose/AlphaPose/pretrained_models/fast_res50_256x192.pth'\n"
   ]
  },
  {
   "cell_type": "code",
   "execution_count": null,
   "id": "11c53f8a-35f4-4b8b-a936-026fa498ee08",
   "metadata": {},
   "outputs": [],
   "source": [
    "!ls {cfg_file} {trained_model}"
   ]
  },
  {
   "cell_type": "code",
   "execution_count": null,
   "id": "be679e38-0385-4887-9b74-abacc08521de",
   "metadata": {},
   "outputs": [],
   "source": [
    "clip_name = 'clip_serve_speed'\n",
    "path_to_video = f'/content/drive/MyDrive/drs_frames/match_frames/{clip_name}.mp4'\n",
    "out_dir = f'/content/drive/MyDrive/drs_frames/match_frames/{clip_name}/'\n",
    "!python scripts/demo_inference.py --cfg $cfg_file --checkpoint $trained_model --video $path_to_video --outdir $out_dir --save_video --vis_fast"
   ]
  },
  {
   "cell_type": "code",
   "execution_count": null,
   "id": "f3f8e51c-cf6e-4d7e-81fb-5ea19abd36e7",
   "metadata": {},
   "outputs": [],
   "source": [
    "import json\n",
    "\n",
    "with open(f'{out_dir}/alphapose-results.json') as f:\n",
    "    d = json.load(f)"
   ]
  },
  {
   "cell_type": "code",
   "execution_count": null,
   "id": "546ee181-09e0-49d9-a52a-c712653c90dd",
   "metadata": {},
   "outputs": [],
   "source": [
    "[(itm['keypoints'][idx*3:idx*3+2]) for itm in sorted(d, key=lambda x: (int(x['image_id'].split('.')[0]),1/x['score']), reverse=False) for idx in (15,16)][:4]"
   ]
  },
  {
   "cell_type": "code",
   "execution_count": null,
   "id": "8e26880b-0c40-4280-b036-c3d190c37951",
   "metadata": {},
   "outputs": [],
   "source": []
  }
 ],
 "metadata": {
  "kernelspec": {
   "display_name": "Python 3 (ipykernel)",
   "language": "python",
   "name": "python3"
  },
  "language_info": {
   "codemirror_mode": {
    "name": "ipython",
    "version": 3
   },
   "file_extension": ".py",
   "mimetype": "text/x-python",
   "name": "python",
   "nbconvert_exporter": "python",
   "pygments_lexer": "ipython3",
   "version": "3.10.10"
  }
 },
 "nbformat": 4,
 "nbformat_minor": 5
}
